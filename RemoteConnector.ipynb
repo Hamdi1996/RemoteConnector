{
 "cells": [
  {
   "cell_type": "code",
   "execution_count": 17,
   "id": "58bc195d-3d62-4ec0-9116-0bb2edd9449c",
   "metadata": {},
   "outputs": [],
   "source": [
    "import pymysql\n",
    "from sshtunnel import SSHTunnelForwarder\n",
    "from pyspark.sql import SparkSession\n",
    "from pyspark.sql.types import StructType, StructField, StringType, IntegerType, DateType, DecimalType"
   ]
  },
  {
   "cell_type": "markdown",
   "id": "ee6c93eb-33e9-4327-b95d-4d847f9c1686",
   "metadata": {},
   "source": [
    "### Database credentials and server details"
   ]
  },
  {
   "cell_type": "code",
   "execution_count": 28,
   "id": "35615932-70e5-4f7c-a8dc-b682fc668943",
   "metadata": {},
   "outputs": [],
   "source": [
    "remote_host = \"206.189.103.247\"              # Your remote server IP\n",
    "remote_port = 3306                           # MariaDB port\n",
    "local_port = 3307                            # Local port to forward\n",
    "ssh_username = \"\"                        # Replace with your SSH username\n",
    "ssh_private_key = \"\"                    # Path to your private key file\n",
    "db_config = {\n",
    "    \"host\": \"127.0.0.1\",                 # Use localhost for the tunnel\n",
    "    \"user\": \"\",                     # Your MariaDB username\n",
    "    \"password\": \"\",                 # Your MariaDB password\n",
    "    \"database\": \"\",            # The database you want to connect to\n",
    "    \"port\": local_port\n",
    "}"
   ]
  },
  {
   "cell_type": "markdown",
   "id": "e1e2fe4a-8303-488b-9982-046d74d228bf",
   "metadata": {},
   "source": [
    "### Establish SSH tunnel and database connection"
   ]
  },
  {
   "cell_type": "code",
   "execution_count": 19,
   "id": "c0bd1c3d-0678-469a-bffe-4e00e4777206",
   "metadata": {},
   "outputs": [],
   "source": [
    "def connect_to_database():\n",
    "    try:\n",
    "        tunnel = SSHTunnelForwarder(\n",
    "            (remote_host, 22),\n",
    "            ssh_username=ssh_username,\n",
    "            ssh_private_key=ssh_private_key,\n",
    "            remote_bind_address=('127.0.0.1', remote_port),\n",
    "            local_bind_address=('127.0.0.1', local_port)\n",
    "        )\n",
    "        tunnel.start()\n",
    "        print(f\"SSH tunnel established. Local port: {tunnel.local_bind_port}\")\n",
    "\n",
    "        # Connect to the database\n",
    "        connection = pymysql.connect(**db_config)\n",
    "        print(\"Connected to the MariaDB database!\")\n",
    "        return connection, tunnel\n",
    "\n",
    "    except Exception as e:\n",
    "        print(f\"Error setting up SSH or connecting to MariaDB: {e}\")\n",
    "        return None, None"
   ]
  },
  {
   "cell_type": "markdown",
   "id": "f7852384-556a-4034-9561-e06b04c0c7a9",
   "metadata": {},
   "source": [
    "### Fetch data from the database"
   ]
  },
  {
   "cell_type": "code",
   "execution_count": 20,
   "id": "f6cefd26-84f8-493a-bcb3-1a24118c9b9f",
   "metadata": {},
   "outputs": [],
   "source": [
    "def fetch_data_from_db(connection, query):\n",
    "    try:\n",
    "        with connection.cursor() as cursor:\n",
    "            cursor.execute(query)\n",
    "            data = cursor.fetchall()\n",
    "            print(\"Data fetched successfully from the database!\")\n",
    "            return data\n",
    "    except Exception as e:\n",
    "        print(f\"Error fetching data: {e}\")\n",
    "        return None"
   ]
  },
  {
   "cell_type": "markdown",
   "id": "bc120a41-1703-41bf-8adc-73db09b0fc83",
   "metadata": {},
   "source": [
    "### Process data using PySpark"
   ]
  },
  {
   "cell_type": "code",
   "execution_count": 26,
   "id": "2e3b501f-c116-44c7-a9d6-41669a6d57e5",
   "metadata": {},
   "outputs": [],
   "source": [
    "def process_data_with_spark(data, schema):\n",
    "    try:\n",
    "        # Create a PySpark session\n",
    "        spark = SparkSession.builder.master(\"local[*]\").appName(\"MariaDBConnection\").getOrCreate()\n",
    "        df = spark.createDataFrame(data, schema=schema)\n",
    "        df.show(truncate=False)  # Display DataFrame in a formatted table\n",
    "        return df\n",
    "    except Exception as e:\n",
    "        print(f\"Error processing data with PySpark: {e}\")\n",
    "        return None"
   ]
  },
  {
   "cell_type": "markdown",
   "id": "625456df-f14f-4c5c-a008-046f2c97071c",
   "metadata": {},
   "source": [
    "### Main ETL execution"
   ]
  },
  {
   "cell_type": "code",
   "execution_count": 27,
   "id": "c209907e-b7dc-44b1-9ca6-1f31763bdc60",
   "metadata": {},
   "outputs": [
    {
     "name": "stdout",
     "output_type": "stream",
     "text": [
      "[\u001b[34m2024-12-28T16:28:47.822+0200\u001b[0m] {\u001b[34mtransport.py:\u001b[0m1944} INFO\u001b[0m - Connected (version 2.0, client OpenSSH_8.0)\u001b[0m\n",
      "[\u001b[34m2024-12-28T16:28:48.335+0200\u001b[0m] {\u001b[34mtransport.py:\u001b[0m1944} INFO\u001b[0m - Authentication (publickey) successful!\u001b[0m\n",
      "SSH tunnel established. Local port: 3309\n",
      "Connected to the MariaDB database!\n",
      "Data fetched successfully from the database!\n",
      "Connection and tunnel closed.\n"
     ]
    }
   ],
   "source": [
    "if __name__ == \"__main__\":\n",
    "    # Define your SQL query\n",
    "    query = \"\"\" Your Query here \"\"\"\n",
    "    schema = [\"col1\", \"col2\", ]\n",
    "\n",
    "    connection, tunnel = connect_to_database()\n",
    "    if connection and tunnel:\n",
    "        try:\n",
    "            data = fetch_data_from_db(connection, query)\n",
    "            if data:\n",
    "                process_data_with_spark(data, schema)\n",
    "        finally:\n",
    "            # Close the database connection and tunnel\n",
    "            connection.close()\n",
    "            tunnel.stop()\n",
    "            print(\"Connection and tunnel closed.\")"
   ]
  },
  {
   "cell_type": "code",
   "execution_count": null,
   "id": "5332d30a-f542-4e67-adb2-d323084aa68a",
   "metadata": {},
   "outputs": [],
   "source": []
  }
 ],
 "metadata": {
  "kernelspec": {
   "display_name": "Python 3 (ipykernel)",
   "language": "python",
   "name": "python3"
  },
  "language_info": {
   "codemirror_mode": {
    "name": "ipython",
    "version": 3
   },
   "file_extension": ".py",
   "mimetype": "text/x-python",
   "name": "python",
   "nbconvert_exporter": "python",
   "pygments_lexer": "ipython3",
   "version": "3.12.7"
  }
 },
 "nbformat": 4,
 "nbformat_minor": 5
}
